{
  "nbformat": 4,
  "nbformat_minor": 0,
  "metadata": {
    "colab": {
      "provenance": []
    },
    "kernelspec": {
      "name": "python3",
      "display_name": "Python 3"
    },
    "language_info": {
      "name": "python"
    }
  },
  "cells": [
    {
      "cell_type": "code",
      "execution_count": null,
      "metadata": {
        "id": "rtUBg15K446w"
      },
      "outputs": [],
      "source": [
        "import openai\n",
        "from arguments import get_config\n",
        "from interfaces import setup_LMP\n",
        "from visualizers import ValueMapVisualizer\n",
        "from envs.rlbench_env import VoxPoserRLBench\n",
        "from utils import set_lmp_objects\n",
        "import numpy as np\n",
        "from rlbench import tasks\n",
        "\n",
        "openai.api_key = \"OPEN-AI-KEY\""
      ]
    },
    {
      "cell_type": "code",
      "source": [
        "config = get_config('rlbench')\n",
        "# uncomment this if you'd like to change the language model (e.g., for faster speed or lower cost)\n",
        "# for lmp_name, cfg in config['lmp_config']['lmps'].items():\n",
        "#     cfg['model'] = 'gpt-3.5-turbo'\n",
        "\n",
        "# initialize env and voxposer ui\n",
        "visualizer = ValueMapVisualizer(config['visualizer'])\n",
        "env = VoxPoserRLBench(visualizer=visualizer)\n",
        "lmps, lmp_env = setup_LMP(env, config, debug=False)\n",
        "voxposer_ui = lmps['plan_ui']\n",
        "print(\"@@@\",voxposer_ui)"
      ],
      "metadata": {
        "id": "7D4qqR-v46ez"
      },
      "execution_count": null,
      "outputs": []
    },
    {
      "cell_type": "code",
      "source": [
        "print([task for task in dir(tasks) if task[0].isupper() and not '_' in task])"
      ],
      "metadata": {
        "id": "4Ozru27R48oh"
      },
      "execution_count": null,
      "outputs": []
    },
    {
      "cell_type": "code",
      "source": [
        "\n",
        "print(\"Loading task: slide the block to target\")\n",
        "print(\"Task loaded successfully\")\n",
        "\n",
        "descriptions, obs = env.reset()\n",
        "set_lmp_objects(lmps, env.get_object_names())  # set the object names to be used by voxposer"
      ],
      "metadata": {
        "id": "HqjSYEqO5EDQ"
      },
      "execution_count": null,
      "outputs": []
    },
    {
      "cell_type": "code",
      "source": [
        "instruction = np.random.choice(descriptions)\n",
        "voxposer_ui(instruction)"
      ],
      "metadata": {
        "id": "f-0XzCWE5SOz"
      },
      "execution_count": null,
      "outputs": []
    },
    {
      "cell_type": "code",
      "source": [],
      "metadata": {
        "id": "mgZvMfnz5zk0"
      },
      "execution_count": null,
      "outputs": []
    }
  ]
}